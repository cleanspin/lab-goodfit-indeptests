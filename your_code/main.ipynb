{
 "cells": [
  {
   "cell_type": "code",
   "execution_count": 1,
   "metadata": {},
   "outputs": [],
   "source": [
    "import numpy as np\n",
    "from scipy.stats import poisson, chisquare, chi2, kstest, binom\n",
    "from scipy.stats import sem as se\n",
    "from scipy import stats\n"
   ]
  },
  {
   "cell_type": "markdown",
   "metadata": {},
   "source": [
    "## Question 1\n",
    "The following table indicates the number of 6-point scores in an American rugby match in the 1979 season.\n",
    "\n",
    "![](table1.png)\n",
    "\n",
    "Based on these results, we create a Poisson distribution with the sample mean parameter  = 2.435. Is there any reason to believe that at a .05 level the number of scores is a Poisson variable?"
   ]
  },
  {
   "cell_type": "code",
   "execution_count": 2,
   "metadata": {},
   "outputs": [
    {
     "data": {
      "text/plain": [
       "[39.233280355579296,\n",
       " 134.77682693579587,\n",
       " 251.1138909079121,\n",
       " 345.55119506980134,\n",
       " 403.04622790496927,\n",
       " 431.0493889867408,\n",
       " 442.41525533354616,\n",
       " 446.36938804539716]"
      ]
     },
     "execution_count": 2,
     "metadata": {},
     "output_type": "execute_result"
    }
   ],
   "source": [
    "# your answer here\n",
    "num_scores = np.array([0,1,2,3,4,5,6,7])\n",
    "times = np.array([35,99,104,110,62,25,10,3])\n",
    "mu = sum(times*num_scores/sum(times))\n",
    "\n",
    "p = [poisson.cdf(mu=mu, k = n)*sum(times) for n in num_scores]\n",
    "expected = [p[n]-p[n-1] if n!= 0 else p[n] for n in range(len(p))]\n",
    "\n",
    "dof = len(times)-1\n",
    "alpha = 0.05\n",
    "\n",
    "critical_value = chi2.ppf(q = 1 - alpha, df = dof)\n",
    "chisquare(times, f_exp=expected)\n",
    "p\n",
    "# I do not reject the null hypothesis. There isn't a reason to not believe. The distribution might be a poisson"
   ]
  },
  {
   "cell_type": "markdown",
   "metadata": {},
   "source": [
    "## Question 2\n",
    "The following are the ordered values of a random sample of SAT scores (university entrance exam) for several students: 852, 875, 910, 933, 957, 963, 981, 998, 1010, 1015, 1018, 1023, 1035, 1048, 1063. In previous years, the scores were presented by N (985,50). Based on the sample, is there any reason to believe that there has been a change in the distribution of scores this year? Use the level alpha = 0.05. "
   ]
  },
  {
   "cell_type": "code",
   "execution_count": 3,
   "metadata": {},
   "outputs": [
    {
     "data": {
      "text/plain": [
       "KstestResult(statistic=0.16289768562941342, pvalue=0.8209217473884476)"
      ]
     },
     "execution_count": 3,
     "metadata": {},
     "output_type": "execute_result"
    }
   ],
   "source": [
    "#your answer here\n",
    "SAT = [852, 875, 910, 933, 957, 963, 981, 998, 1010, 1015, 1018, 1023, 1035, 1048, 1063]\n",
    "loc, scale = stats.norm.fit(SAT)\n",
    "normal_dist = stats.norm(loc=loc, scale=scale)\n",
    "\n",
    "kstest(SAT, normal_dist.cdf)\n",
    "# I do not reject the null hypothesis. There isn't a reason to not believe. The distribution might be a normal distribution too"
   ]
  },
  {
   "cell_type": "markdown",
   "metadata": {},
   "source": [
    "## Question 3\n",
    "Let's analyze a discrete distribution. To analyze the number of defective items in a factory in the city of Medellín, we took a random sample of n = 60 articles and observed the number of defectives in the following table:\n",
    "\n",
    "![](table2.png)\n",
    "\n",
    "A poissón distribution was proposed since it is defined for x = 0,1,2,3, .... using the following model:\n",
    "\n",
    "![](image1.png)\n",
    "\n",
    "Does the distribution of defective items follow this distribution?"
   ]
  },
  {
   "cell_type": "code",
   "execution_count": 4,
   "metadata": {},
   "outputs": [
    {
     "data": {
      "text/plain": [
       "Power_divergenceResult(statistic=37.7265676893159, pvalue=1.2759420913386322e-07)"
      ]
     },
     "execution_count": 4,
     "metadata": {},
     "output_type": "execute_result"
    }
   ],
   "source": [
    "num_items = np.array([0,1,2,3,4])\n",
    "frequency = np.array([32,15,0,9,4])\n",
    "mu = sum(frequency*num_items/sum(frequency))\n",
    "\n",
    "p = [poisson.cdf(mu=mu, k = n)*sum(frequency) for n in num_items]\n",
    "expected = [p[n]-p[n-1] if n!= 0 else p[n] for n in range(len(p))]\n",
    "\n",
    "dof = len(num_items)-1\n",
    "alpha = 0.05\n",
    "\n",
    "critical_value = chi2.ppf(q = 1 - alpha, df = dof)\n",
    "chisquare(frequency, f_exp=expected)\n",
    "\n",
    "## I do reject the null hypothesis. this is no poisson distribution. something fishy's going on here"
   ]
  },
  {
   "cell_type": "markdown",
   "metadata": {},
   "source": [
    "## Question 4\n",
    "A quality control engineer takes a sample of 10 tires that come out of an assembly line, and would like to verify on the basis of the data that follows, if the number of tires with defects observed over 200 days, if it is true that 5% of all tires have defects (that is, if the sample comes from a binomial population with n = 10 and p = 0.05). \n",
    "\n",
    "![](table3.png)\n"
   ]
  },
  {
   "cell_type": "code",
   "execution_count": 5,
   "metadata": {},
   "outputs": [
    {
     "data": {
      "text/plain": [
       "Power_divergenceResult(statistic=6.730152995610064, pvalue=0.034559372300758)"
      ]
     },
     "execution_count": 5,
     "metadata": {},
     "output_type": "execute_result"
    }
   ],
   "source": [
    "# your answer here\n",
    "observed = [138,53,9]\n",
    "n, p = 10, 0.05\n",
    "binomial_array = [binom.pmf(n=n,p=p, k=x)*sum(observed) for x in range(3)]\n",
    "binomial_array\n",
    "chisquare(observed, f_exp=binomial_array)\n",
    "\n",
    "#I do not reject the hypothesis that 5% of all tires are defected"
   ]
  },
  {
   "cell_type": "markdown",
   "metadata": {},
   "source": [
    "## Question 5\n",
    "A researcher gathers information about the patterns of Physical Activity of children in the fifth grade of primary school of a public school. He defines three categories of physical activity (Low, Medium, High). He also inquires about the regular consumption of sugary drinks at school, and defines two categories (Yes = consumed, No = not consumed). We would like to evaluate if there is an association between patterns of physical activity and the consumption of sugary drinks for the children of this school, at a level of 5% significance. The results are in the following table: \n",
    "\n",
    "![](table4.png)"
   ]
  },
  {
   "cell_type": "code",
   "execution_count": 6,
   "metadata": {},
   "outputs": [],
   "source": [
    "#your answer here\n",
    "by_activity=[32, 14, 6]\n",
    "expected = [52/95*44, 52/95*36, 52/95*15]"
   ]
  },
  {
   "cell_type": "code",
   "execution_count": 7,
   "metadata": {},
   "outputs": [
    {
     "data": {
      "text/plain": [
       "Power_divergenceResult(statistic=4.848679098679099, pvalue=0.08853657377535284)"
      ]
     },
     "execution_count": 7,
     "metadata": {},
     "output_type": "execute_result"
    }
   ],
   "source": [
    "stats.chisquare(by_activity, f_exp=expected)\n",
    "\n",
    "# I do reject the hypothesis that the consumption of drinks is not dependent on physical activity level or that the phys activity level is independent of the sugary drinks consumptions\n",
    "## or, in clear english: it seems that the consumption of drinks and physical activity level show an association."
   ]
  },
  {
   "cell_type": "code",
   "execution_count": 8,
   "metadata": {},
   "outputs": [
    {
     "data": {
      "text/plain": [
       "[24.08421052631579, 19.705263157894738, 8.210526315789474]"
      ]
     },
     "execution_count": 8,
     "metadata": {},
     "output_type": "execute_result"
    }
   ],
   "source": [
    "expected"
   ]
  },
  {
   "cell_type": "code",
   "execution_count": null,
   "metadata": {},
   "outputs": [],
   "source": []
  }
 ],
 "metadata": {
  "kernelspec": {
   "display_name": "Python 3",
   "language": "python",
   "name": "python3"
  },
  "language_info": {
   "codemirror_mode": {
    "name": "ipython",
    "version": 3
   },
   "file_extension": ".py",
   "mimetype": "text/x-python",
   "name": "python",
   "nbconvert_exporter": "python",
   "pygments_lexer": "ipython3",
   "version": "3.7.4"
  }
 },
 "nbformat": 4,
 "nbformat_minor": 2
}
